{
 "cells": [
  {
   "cell_type": "markdown",
   "metadata": {},
   "source": [
    "### Basics \n",
    "\n",
    "1) Import the library\n",
    "\n",
    "2) Create a numpy array of a desired range.\n",
    "\n",
    "3) Numpy has its own data types for numbers ([see more...](https://docs.scipy.org/doc/numpy-1.13.0/user/basics.types.html)). \n",
    "\n",
    "4) Be careful with the number overflows! If the result does not fit in the requested datatype it won't throw an error but generate an erroneous number because of the overflow.\n",
    "\n",
    "5) Also, numpy handles division by zero by creating -inf and inf objects as well as nan in case it is impossible to determine the value. It will be a warning to let you know that something is not working normally.\n",
    "\n",
    "6) We can create a new array holding the same data of another one, but with a different data type...\n",
    "\n",
    "7) How to know if tan element is nan?\n",
    "\n",
    "8) How to see documentation of a numpy method?"
   ]
  },
  {
   "cell_type": "code",
   "execution_count": 72,
   "metadata": {
    "collapsed": false
   },
   "outputs": [
    {
     "name": "stdout",
     "output_type": "stream",
     "text": [
      "Array from 0 to 99:\n",
      "[ 0  1  2  3  4  5  6  7  8  9 10 11 12 13 14 15 16 17 18 19 20 21 22 23 24\n",
      " 25 26 27 28 29 30 31 32 33 34 35 36 37 38 39 40 41 42 43 44 45 46 47 48 49\n",
      " 50 51 52 53 54 55 56 57 58 59 60 61 62 63 64 65 66 67 68 69 70 71 72 73 74\n",
      " 75 76 77 78 79 80 81 82 83 84 85 86 87 88 89 90 91 92 93 94 95 96 97 98 99]\n",
      "\n",
      "Array of 1 byte integers:\n",
      "[ -1   0   1 100]\n",
      "\n",
      "Broadcast Operation:\n",
      "[ 1  0  1 16]\n",
      "\n",
      "NumPy's nans and infintes:\n",
      "[-inf  nan  inf  inf]\n",
      "\n",
      "Create an array based on a former one:\n",
      "[  -1.    0.    1.  100.]\n",
      "\n",
      "NaN Validation:\n",
      "True\n",
      "False\n",
      "[False  True False False]\n"
     ]
    },
    {
     "name": "stderr",
     "output_type": "stream",
     "text": [
      "/Users/daza/anaconda3/lib/python3.6/site-packages/ipykernel/__main__.py:15: RuntimeWarning: divide by zero encountered in true_divide\n",
      "/Users/daza/anaconda3/lib/python3.6/site-packages/ipykernel/__main__.py:15: RuntimeWarning: invalid value encountered in true_divide\n",
      "/Users/daza/anaconda3/lib/python3.6/site-packages/ipykernel/__main__.py:24: RuntimeWarning: divide by zero encountered in true_divide\n",
      "/Users/daza/anaconda3/lib/python3.6/site-packages/ipykernel/__main__.py:24: RuntimeWarning: invalid value encountered in true_divide\n"
     ]
    }
   ],
   "source": [
    "### 1)\n",
    "import numpy as np\n",
    "%matplotlib inline\n",
    "### 2)\n",
    "a = np.arange(100)\n",
    "print(\"Array from 0 to 99:\\n{}\".format(a))\n",
    "### 3)\n",
    "a = np.array([-1,0,1,100],dtype=\"int8\")\n",
    "print(\"\\nArray of 1 byte integers:\\n{}\".format(a))\n",
    "### 4)\n",
    "print(\"\\nBroadcast Operation:\")\n",
    "print(a**2)\n",
    "### 5)\n",
    "print(\"\\nNumPy's nans and infintes:\")\n",
    "print(a/0)\n",
    "### 6)\n",
    "print(\"\\nCreate an array based on a former one:\")\n",
    "b = a.astype(\"float32\")\n",
    "print(b)\n",
    "### 7)\n",
    "print(\"\\nNaN Validation:\")\n",
    "print(np.isnan(np.nan))\n",
    "print(np.isnan(1))\n",
    "print(np.isnan(a/0))\n",
    "### 8)\n",
    "#np.arange? ##Uncomment to see Documentation of this method!"
   ]
  },
  {
   "cell_type": "markdown",
   "metadata": {},
   "source": [
    "### Creating Arrays..."
   ]
  },
  {
   "cell_type": "code",
   "execution_count": 77,
   "metadata": {
    "collapsed": false
   },
   "outputs": [
    {
     "name": "stdout",
     "output_type": "stream",
     "text": [
      "[[ 0.  0.]\n",
      " [ 0.  0.]]\n",
      "\n",
      "[[ 1.  1.]\n",
      " [ 1.  1.]]\n",
      "\n",
      "[[ 0.  0.]\n",
      " [ 0.  0.]]\n",
      "\n",
      "[ -1   0   1 100]\n",
      "\n",
      "[  -1.    0.    1.  100.]\n"
     ]
    }
   ],
   "source": [
    "a = np.zeros((2,2))\n",
    "print(a)\n",
    "print(\"\")\n",
    "b = np.ones((2,2))\n",
    "print(b)\n",
    "print(\"\")\n",
    "c = np.empty((2,2))\n",
    "print(c)\n",
    "print(\"\")\n",
    "d = np.array([-1,0,1,100],dtype=\"int8\")\n",
    "print(d)\n",
    "print(\"\")\n",
    "e = d.astype(\"float32\")\n",
    "print(e)"
   ]
  },
  {
   "cell_type": "markdown",
   "metadata": {},
   "source": [
    "### Getting items and slicing arrays"
   ]
  },
  {
   "cell_type": "code",
   "execution_count": 78,
   "metadata": {
    "collapsed": false
   },
   "outputs": [
    {
     "name": "stdout",
     "output_type": "stream",
     "text": [
      "[  -1.    0.    1.  100.]\n",
      "\n",
      "-1.0\n",
      "\n",
      "100.0\n",
      "\n",
      "[-1.  0.]\n",
      "\n",
      "[-1.  1.]\n",
      "\n",
      "[-1.  0.  1.  5.]\n"
     ]
    }
   ],
   "source": [
    "print(e)\n",
    "\n",
    "print(\"\")\n",
    "print(e[0])\n",
    "\n",
    "print(\"\")\n",
    "print(e[-1])\n",
    "\n",
    "print(\"\")\n",
    "print(e[0:2])\n",
    "\n",
    "print(\"\")\n",
    "print(e[::2])\n",
    "\n",
    "e[-1] = 5\n",
    "print(\"\")\n",
    "print(e)"
   ]
  },
  {
   "cell_type": "markdown",
   "metadata": {},
   "source": [
    "### Create n-dimensional arrays (Tensors)\n",
    "\n",
    "It is easy to change the dimensions of an array with the function reshape. This function takes as an argument a list of the dimensions in which data will be reshaped. It is **MANDATORY** that the product of the elements on the dimensions list always matches the total shape of the array. \n",
    "\n",
    "In this case the arange is creating a one dimensional array of 12 numbers (from 0 to 1) and reshaping them in different fashions. The product of dimensions are always 12 (e.g. 2 \\* 3 \\* 2 = 12 and 4 * 3 = 12)."
   ]
  },
  {
   "cell_type": "code",
   "execution_count": 80,
   "metadata": {
    "collapsed": false
   },
   "outputs": [
    {
     "name": "stdout",
     "output_type": "stream",
     "text": [
      "---------------\n",
      "[[ 0  1  2  3]\n",
      " [ 4  5  6  7]\n",
      " [ 8  9 10 11]]\n",
      "\n",
      "---------------\n",
      "[[ 0  1  2]\n",
      " [ 3  4  5]\n",
      " [ 6  7  8]\n",
      " [ 9 10 11]]\n",
      "\n",
      "---------------\n",
      "[[[ 0  1]\n",
      "  [ 2  3]\n",
      "  [ 4  5]]\n",
      "\n",
      " [[ 6  7]\n",
      "  [ 8  9]\n",
      "  [10 11]]]\n",
      "\n",
      "---------------\n",
      "[[[ 0  1  2  3  4  5]\n",
      "  [ 6  7  8  9 10 11]]]\n",
      "\n",
      "---------------\n",
      "[[[ 0]\n",
      "  [ 1]]\n",
      "\n",
      " [[ 2]\n",
      "  [ 3]]\n",
      "\n",
      " [[ 4]\n",
      "  [ 5]]\n",
      "\n",
      " [[ 6]\n",
      "  [ 7]]\n",
      "\n",
      " [[ 8]\n",
      "  [ 9]]\n",
      "\n",
      " [[10]\n",
      "  [11]]]\n",
      "\n"
     ]
    }
   ],
   "source": [
    "w = np.arange(12).reshape(3,4)\n",
    "print(\"---------------\\n{}\\n\".format(w))\n",
    "x = np.arange(12).reshape(4,3)\n",
    "print(\"---------------\\n{}\\n\".format(x))\n",
    "y = np.arange(12).reshape(2,3,2)\n",
    "print(\"---------------\\n{}\\n\".format(y))\n",
    "z = np.arange(12).reshape(1,2,6)\n",
    "print(\"---------------\\n{}\\n\".format(z))\n",
    "zz = np.arange(12).reshape(6,2,1)\n",
    "print(\"---------------\\n{}\\n\".format(zz))"
   ]
  },
  {
   "cell_type": "markdown",
   "metadata": {},
   "source": [
    "### Get items and slicing from Tensors\n",
    "\n",
    "1) **The getter method for Tensors is going to match the order of dimensions as declared on the reshape**. This means that for getting an item inside a tensor of dimensions 1 \\* 2 \\* 6, first the getter look at one possible dimension (0),then at two possible dimensions (0 to 1) and finally at six possible dimensions (0 to 5).\n",
    "\n",
    "The NumPy index getter always \"collapses\" one dimension.\n",
    "\n",
    "2) How to get as a return value an array of the same dimensions as the original? Slicing instead of indexing!\n",
    "\n",
    "The NumPy slicing always retrieve the dimension \"as-is\", preserving the original shape of the dimension you are slicing."
   ]
  },
  {
   "cell_type": "code",
   "execution_count": 81,
   "metadata": {
    "collapsed": false
   },
   "outputs": [
    {
     "name": "stdout",
     "output_type": "stream",
     "text": [
      "(1, 2, 6)\n",
      "\n",
      "11\n",
      "\n",
      "11\n",
      "\n",
      "[[[ 0  1  2  3  4  5]\n",
      "  [ 6  7  8  9 10 11]]]\n",
      "\n",
      "[[ 3  4  5]\n",
      " [ 9 10 11]]\n",
      "\n",
      "[[[ 3  4  5]\n",
      "  [ 9 10 11]]]\n",
      "\n",
      "[ 0  1  2  3  4  5  6  7  8  9 10 11]\n",
      "\n"
     ]
    }
   ],
   "source": [
    "## 1)\n",
    "print(z.shape)\n",
    "print(\"\")\n",
    "# Classic pythonic call\n",
    "print(z[0][1][5])\n",
    "print(\"\")\n",
    "# Same call but optimized for Numpy!\n",
    "print(z[0,1,5])\n",
    "print(\"\")\n",
    "# Slicing: Get the first element of the first dimension, the first two elements of the second, and the whole third dim.\n",
    "print(z[:1,:2,:])\n",
    "print(\"\")\n",
    "# Mix index and slicing: Get the last 3 \"columns\" inside the matrix at the first dimension of the tensor\n",
    "print(z[0,:,-3:])\n",
    "print(\"\")\n",
    "## 2) Slice the first dimension to get an array of three dimensions, just as the original\n",
    "print(z[0:,:,-3:])\n",
    "print(\"\")\n",
    "# An easy way to convert any shape into a single dimensional array\n",
    "print(z.flatten())\n",
    "print(\"\")"
   ]
  },
  {
   "cell_type": "markdown",
   "metadata": {},
   "source": [
    "### Using arrays for Indexing\n",
    "\n",
    "An array can be used to retrieve the indices of another array. In one dimension this is straight-forward (example a), since the array passed to a represents the list of indices that should be kept from a.\n",
    "\n",
    "In the case of two dimensions: b[[],[]], the indexing can be done like coordinates, where the first element of the first list and the firt element of the second list conform the (x,y) retrieved, and son on... For example, to get [6,10] from b, the 6 is in coordinate (2,0) and 10 is in coordinate (3,1), so the first position of the first indexing list should have a 2 and the first position of the second indexing list should be 0...\n",
    "\n",
    "This generalizes to N dimensions, where the \"indexing array\" will have as many sub-arrays as dimensions of the main array. And the \"coordinates\" are spread throughout the sub-arrays. See example with three dimensions, getting coordinate (3,1,2), which is the last element of the array."
   ]
  },
  {
   "cell_type": "code",
   "execution_count": 95,
   "metadata": {
    "collapsed": false
   },
   "outputs": [
    {
     "name": "stdout",
     "output_type": "stream",
     "text": [
      "[0 1 2 3 4 5 6 7 8 9]\n",
      "[0 2 4]\n",
      "------------\n",
      "\n",
      "[[ 0  1  2]\n",
      " [ 3  4  5]\n",
      " [ 6  7  8]\n",
      " [ 9 10 11]]\n",
      "[ 6 10]\n",
      "------------\n",
      "\n",
      "[[[ 0  1  2]\n",
      "  [ 3  4  5]]\n",
      "\n",
      " [[ 6  7  8]\n",
      "  [ 9 10 11]]\n",
      "\n",
      " [[12 13 14]\n",
      "  [15 16 17]]\n",
      "\n",
      " [[18 19 20]\n",
      "  [21 22 23]]]\n",
      "[23]\n",
      "------------\n",
      "\n",
      "[ 1  7 13 19]\n"
     ]
    }
   ],
   "source": [
    "a = np.arange(10)\n",
    "print(a)\n",
    "print(a[[0,2,4]])\n",
    "print(\"------------\\n\")\n",
    "b = np.arange(12).reshape(4,3)\n",
    "print(b)\n",
    "print(b[[2,3],[0,1]]) #To get [6,11]\n",
    "print(\"------------\\n\")\n",
    "c = np.arange(24).reshape(4,2,3)\n",
    "print(c)\n",
    "print(c[ [ [3],[1],[2] ] ]) #To get [23]\n",
    "d = np.arange(25).reshape(5,5)\n",
    "print(\"------------\\n\")\n",
    "print(d[ [[0,1,2,3],[1,2,3,4]] ])"
   ]
  },
  {
   "cell_type": "markdown",
   "metadata": {},
   "source": [
    "### Masks\n",
    "\n",
    "1) A mask is an array of booleans indicating whether a condition is met or not. The mask should have the same shape as the array it is referred to. \n",
    "\n",
    "2) And also it can be used as an indexing array... Only keeping the elements for which the mask is True.\n",
    "\n",
    "3) Getting all values inside an array that are exactly divided by 3...\n",
    "\n",
    "4) If you want to know the positions inside the array where a Mask is True instead of retrieveng the values, you can use where. In this case, get the indices of the elements whose value is exactly dividied by 3. The result is not a list of coordinates, but a list of lists in the same fashion as the indexing arrays (see previous section!) "
   ]
  },
  {
   "cell_type": "code",
   "execution_count": 99,
   "metadata": {
    "collapsed": false
   },
   "outputs": [
    {
     "name": "stdout",
     "output_type": "stream",
     "text": [
      "[[[ 0  1  2]\n",
      "  [ 3  4  5]]\n",
      "\n",
      " [[ 6  7  8]\n",
      "  [ 9 10 11]]\n",
      "\n",
      " [[12 13 14]\n",
      "  [15 16 17]]\n",
      "\n",
      " [[18 19 20]\n",
      "  [21 22 23]]]\n",
      "\n",
      "----------\n",
      "[[[False False False]\n",
      "  [False False False]]\n",
      "\n",
      " [[False False False]\n",
      "  [False False False]]\n",
      "\n",
      " [[False False False]\n",
      "  [False False  True]]\n",
      "\n",
      " [[ True  True  True]\n",
      "  [ True  True  True]]]\n",
      "\n",
      "----------\n",
      "[17 18 19 20 21 22 23]\n",
      "\n",
      "----------\n",
      "[[ 0  1  2  3  4]\n",
      " [ 5  6  7  8  9]\n",
      " [10 11 12 13 14]\n",
      " [15 16 17 18 19]\n",
      " [20 21 22 23 24]]\n",
      "\n",
      "[ 0  3  6  9 12 15 18 21 24]\n",
      "\n",
      "----------\n"
     ]
    },
    {
     "data": {
      "text/plain": [
       "(array([0, 0, 1, 1, 2, 3, 3, 4, 4]), array([0, 3, 1, 4, 2, 0, 3, 1, 4]))"
      ]
     },
     "execution_count": 99,
     "metadata": {},
     "output_type": "execute_result"
    }
   ],
   "source": [
    "print(c)\n",
    "print(\"\\n----------\")\n",
    "### 1\n",
    "mask = c > 16\n",
    "print(mask)\n",
    "### 2\n",
    "print(\"\\n----------\")\n",
    "print(c[mask])\n",
    "### 3\n",
    "print(\"\\n----------\")\n",
    "print(d)\n",
    "print(\"\")\n",
    "print(d[d % 3 == 0])\n",
    "print(\"\\n----------\")\n",
    "mask = d % 3 == 0\n",
    "np.where(mask)"
   ]
  },
  {
   "cell_type": "markdown",
   "metadata": {},
   "source": [
    "### Mathematical Operations\n",
    "\n",
    "Return an array of the same size after a certain operation.\n",
    "\n",
    "1) Shapes of array matter\n",
    "2) Math Operations are Elementwise\n",
    "\n",
    "### Reduction Operations\n",
    "\n",
    "Return an array of smaller proportions after applying the operation.\n",
    "\n",
    "3) NaNs propagate in both mathematical and reduction operations\n",
    "4) A reduction operation, gets a tensor as input and returns a single scalar. Unless, *axis* parameter is provided. **Axis should equal the position of the shape tuple which we wish to collapse!**, so the result will be a tensor with n-1 dimensions, with the reduction only \"applied\" to the collapsed dimension.\n",
    "\n",
    "5) Some reduction function can take a m-tuple as an argument for the axis parameter. That m-tuple contains the indices of the shape tuple that will be collapsed. And the resulting tensor will have n-m dimensions."
   ]
  },
  {
   "cell_type": "code",
   "execution_count": 116,
   "metadata": {
    "collapsed": false
   },
   "outputs": [
    {
     "name": "stdout",
     "output_type": "stream",
     "text": [
      "[[ 0  1  2  3  4]\n",
      " [ 5  6  7  8  9]\n",
      " [10 11 12 13 14]\n",
      " [15 16 17 18 19]\n",
      " [20 21 22 23 24]]\n",
      "------ MATH OP --------\n",
      "[[ 5  6  7  8  9]\n",
      " [10 11 12 13 14]\n",
      " [15 16 17 18 19]\n",
      " [20 21 22 23 24]\n",
      " [25 26 27 28 29]]\n",
      "------ REDUCT OP --------\n",
      "[[ 0  1  2]\n",
      " [ 3  4  5]\n",
      " [ 6  7  8]\n",
      " [ 9 10 11]]\n",
      "66\n",
      "[18 22 26]\n",
      "[ 3 12 21 30]\n",
      "------ OTHER REDUCT OPS --------\n",
      "5.5\n",
      "3.45205252953\n",
      "11.9166666667\n",
      "11\n",
      "0\n",
      "0\n",
      "[2 2 2 2]\n",
      "(0, 0)\n",
      "(3, 2)\n"
     ]
    }
   ],
   "source": [
    "a = np.arange(25).reshape(5,5)\n",
    "print(a)\n",
    "print(\"------ MATH OP --------\")\n",
    "print(a+5)\n",
    "print(\"------ REDUCT OP --------\")\n",
    "b = np.arange(12).reshape(4,3)\n",
    "print(b)\n",
    "print(np.sum(b))\n",
    "print(np.sum(b,axis=0))\n",
    "print(np.sum(b,axis=1))\n",
    "print(\"------ OTHER REDUCT OPS --------\")\n",
    "print(np.mean(b))\n",
    "print(np.std(b)) # Standard Dev\n",
    "print(np.var(b)) # Variance\n",
    "print(np.max(b))\n",
    "print(np.min(b)) # What is the min val?\n",
    "print(np.argmin(b)) # Where [which index] is the min val? The index is retrieved \"as in 1-dim array!\"\n",
    "print(np.argmax(b,axis=1)) # Where [which index] is the max val, applied per row? = Each row has its max val at index=2\n",
    "\n",
    "#To get the index of argmin/argmax as the \"actual\" tuple of indices inside the tensor:\n",
    "print(np.unravel_index(np.argmin(b), b.shape))\n",
    "print(np.unravel_index(np.argmax(b), b.shape)) #At index (3,2) there is the max value of the matrix (= 11)"
   ]
  },
  {
   "cell_type": "code",
   "execution_count": null,
   "metadata": {
    "collapsed": true
   },
   "outputs": [],
   "source": []
  }
 ],
 "metadata": {
  "kernelspec": {
   "display_name": "Python 3",
   "language": "python",
   "name": "python3"
  },
  "language_info": {
   "codemirror_mode": {
    "name": "ipython",
    "version": 3
   },
   "file_extension": ".py",
   "mimetype": "text/x-python",
   "name": "python",
   "nbconvert_exporter": "python",
   "pygments_lexer": "ipython3",
   "version": "3.6.0"
  }
 },
 "nbformat": 4,
 "nbformat_minor": 2
}
